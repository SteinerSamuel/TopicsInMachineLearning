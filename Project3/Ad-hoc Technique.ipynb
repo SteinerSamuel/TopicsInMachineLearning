{
 "cells": [
  {
   "cell_type": "markdown",
   "metadata": {},
   "source": [
    "# Project 3 - Ad-hoc Techniques\n",
    "Code up the 8-Puzzle using a Genetic Approach and one other non-traditional approaches. Compare against a random approach.\n",
    "\n",
    "So to start this program, we are going to use our eight puzzle mix up program again as follows"
   ]
  },
  {
   "cell_type": "code",
   "execution_count": 1,
   "metadata": {},
   "outputs": [],
   "source": [
    "# Moves mapped to 0 = up, 1 = right, 2= down, and 3 = left \n",
    "import random\n",
    "import numpy as np\n",
    "from utils import memoize\n",
    "\n",
    "def apply_action(board, action):\n",
    "    \"\"\"\n",
    "    Applies an action to a board\n",
    "    :param board:  the board which the action is being applied to\n",
    "    :param action: a integer from 0-3 which corresponds to actions: 0: up, 1:right, 2:down, 3:left\n",
    "    :return: the board with the new acction applied to it\n",
    "    \"\"\"\n",
    "    deltas = np.array([[-1, 0, 1, 0], [0, 1, 0, -1]])  # changes based on what direction the tile is moved\n",
    "    posx, posy = np.where(np.isin(board, [0]))  # grabs the position of the blank tile\n",
    "    (x, y) = (posx[0], posy[0])\n",
    "    (new_x, new_y) = (x + deltas[0,action], y + deltas[1, action])\n",
    "    if new_x < 0 or new_y < 0:  # necessary because negative numbers wrap arround\n",
    "        new_x = 3\n",
    "    try:\n",
    "        el = board[new_x,new_y]\n",
    "        board[x,y] = el\n",
    "        board[new_x,new_y] = 0\n",
    "    except IndexError:\n",
    "        # print('index error')\n",
    "        pass\n",
    "    return board\n",
    "\n",
    "\n",
    "def mess_up(board,moves):\n",
    "    for iter in range(0,moves):\n",
    "        board = apply_action(board, random.randint(0, 3)) # generates a random move based on the comment at the top\n",
    "    pass"
   ]
  },
  {
   "cell_type": "code",
   "execution_count": 2,
   "metadata": {},
   "outputs": [],
   "source": [
    "def sol_to_string(solution):\n",
    "    \"\"\"\n",
    "    the function takes a solution and returns the names of the moves\n",
    "    \"\"\"\n",
    "    move_dict ={0: 'up', 1:'right', 2:'down', 3:'left'}\n",
    "    sequence = []\n",
    "    for x in solution:\n",
    "        sequence.append(move_dict[x])\n",
    "    print(sequence)"
   ]
  },
  {
   "cell_type": "markdown",
   "metadata": {},
   "source": [
    "Let's make a board to play around with. This generates a board with 50 random moves applied to it. For the explaination, we will use this as a global."
   ]
  },
  {
   "cell_type": "code",
   "execution_count": 3,
   "metadata": {},
   "outputs": [
    {
     "name": "stdout",
     "output_type": "stream",
     "text": [
      "[[1 5 2]\n",
      " [8 7 3]\n",
      " [4 0 6]]\n"
     ]
    }
   ],
   "source": [
    "board = np.array([[1, 2, 3], [4, 5, 6], [7, 8, 0]])\n",
    "mess_up(board,50)\n",
    "print(board)"
   ]
  },
  {
   "cell_type": "markdown",
   "metadata": {},
   "source": [
    "Next, we want to code up a genetic algorithm solution to the problem. Let's look at how the AIMA looks at genetic algorithims, so we will import the search.py file from the AIMA repository."
   ]
  },
  {
   "cell_type": "code",
   "execution_count": 4,
   "metadata": {},
   "outputs": [],
   "source": [
    "from search import *"
   ]
  },
  {
   "cell_type": "markdown",
   "metadata": {},
   "source": [
    "Let's define our target goal. We did this intially in a function called goal test, which returned true or false based on if our array was equal to our goal. We are going to set target to the goal array."
   ]
  },
  {
   "cell_type": "code",
   "execution_count": 5,
   "metadata": {},
   "outputs": [],
   "source": [
    "Target = np.array([[1, 2, 3], [4, 5, 6], [7, 8, 0]])"
   ]
  },
  {
   "cell_type": "markdown",
   "metadata": {},
   "source": [
    "Next we need to define our gene pool. For this problem our gene pool is made of the moves which can be conducted such as left, right, up, down."
   ]
  },
  {
   "cell_type": "code",
   "execution_count": 6,
   "metadata": {},
   "outputs": [],
   "source": [
    "gene_pool = [0, 1, 2, 3] #0: up, 1:right, 2:down, 3:left"
   ]
  },
  {
   "cell_type": "markdown",
   "metadata": {},
   "source": [
    "We then define the max population. I started with 100 for the max population and a 7% mutation rate. I then changed the mutation rate to 1% since there was no need for the mutation rate to be that high."
   ]
  },
  {
   "cell_type": "code",
   "execution_count": 7,
   "metadata": {},
   "outputs": [],
   "source": [
    "max_population = 100"
   ]
  },
  {
   "cell_type": "code",
   "execution_count": 8,
   "metadata": {},
   "outputs": [],
   "source": [
    "mutation_rate = 0.01 # 1%"
   ]
  },
  {
   "cell_type": "markdown",
   "metadata": {},
   "source": [
    "Next we need to define the fitness. We can use one of the heuristics from earlier as a template. For the fitness I will use a Manhattan distance and the correctness of the top row and left column. These are used in the fitness function. The Manhattan distance is the sum of the total distance horizontally and vertically to the board goal state. So we make a function to calculate the Manhattan distance and a function which calculates the correctness of the top row and the left column. The manhattan distance I can copy over from an earlier project. The fitness value will then be calculated by the following"
   ]
  },
  {
   "cell_type": "markdown",
   "metadata": {},
   "source": [
    "$Fitness = 1 - Manhattan(0.01) - TopLeft(0.2)$"
   ]
  },
  {
   "cell_type": "code",
   "execution_count": 9,
   "metadata": {},
   "outputs": [],
   "source": [
    "def manhattan(board):\n",
    "    \"\"\"\n",
    "    grabs the total manhattan distance of the board\n",
    "    \"\"\"\n",
    "    goal = np.array([[1, 2, 3], [4, 5, 6], [7, 8, 0]])\n",
    "    td = 0\n",
    "    for item in [1, 2, 3, 4, 5, 6, 7, 8]:\n",
    "        gx, gy = np.where(np.isin(goal, item))\n",
    "        cx, cy = np.where(np.isin(board, item))\n",
    "        td += abs(gx-cx)+abs(gy-cy)\n",
    "    return td[0]"
   ]
  },
  {
   "cell_type": "code",
   "execution_count": 155,
   "metadata": {},
   "outputs": [],
   "source": [
    "def topleft(board):\n",
    "    \"\"\"\n",
    "    a 2,1,0 based on the correctness of the top row and column of the board.\n",
    "    \"\"\"\n",
    "    top = 1\n",
    "    left = 1\n",
    "    \n",
    "    if board[0,0] == 1 and board[0,1] == 2 and board[0,2] == 3:\n",
    "        top = 0\n",
    "    \n",
    "    if board[0,0] == 1 and board[1,0] == 4 and board[2,0] == 7:\n",
    "        left = 0\n",
    "        \n",
    "    return top + left"
   ]
  },
  {
   "cell_type": "code",
   "execution_count": 11,
   "metadata": {},
   "outputs": [
    {
     "name": "stdout",
     "output_type": "stream",
     "text": [
      "9 2\n"
     ]
    }
   ],
   "source": [
    "print(manhattan(board), topleft(board))"
   ]
  },
  {
   "cell_type": "code",
   "execution_count": 12,
   "metadata": {},
   "outputs": [],
   "source": [
    "def fitness_fn(sample):\n",
    "    # initialize fitness to 0\n",
    "    global board\n",
    "    temp = np.copy(board)\n",
    "    for x in sample:\n",
    "        apply_action(temp, x)\n",
    "    \n",
    "    return 1 - manhattan(temp)*0.01 - topleft(temp)*0.2"
   ]
  },
  {
   "cell_type": "markdown",
   "metadata": {},
   "source": [
    "Next, we are going to create our initial population based on the max population and the other factors we chose 31 as our length because 31 steps is the hardest known 8 puzzle.[link](http://w01fe.com/blog/2009/01/the-hardest-eight-puzzle-instances-take-31-moves-to-solve/)"
   ]
  },
  {
   "cell_type": "code",
   "execution_count": 13,
   "metadata": {},
   "outputs": [],
   "source": [
    "population = init_population(max_population, gene_pool, 31)"
   ]
  },
  {
   "cell_type": "markdown",
   "metadata": {},
   "source": [
    "Next, we will select 2 parents based on the fitness fuction we defined earlier. "
   ]
  },
  {
   "cell_type": "code",
   "execution_count": 14,
   "metadata": {},
   "outputs": [],
   "source": [
    "parents = select(2, population, fitness_fn)"
   ]
  },
  {
   "cell_type": "markdown",
   "metadata": {},
   "source": [
    "Then we wil use the recombine function in search.py to create a child."
   ]
  },
  {
   "cell_type": "code",
   "execution_count": 15,
   "metadata": {},
   "outputs": [],
   "source": [
    "child = recombine(*parents)"
   ]
  },
  {
   "cell_type": "markdown",
   "metadata": {},
   "source": [
    "Next, we run the mutate function on the child."
   ]
  },
  {
   "cell_type": "code",
   "execution_count": 16,
   "metadata": {},
   "outputs": [],
   "source": [
    "child = mutate(child, gene_pool, mutation_rate)"
   ]
  },
  {
   "cell_type": "markdown",
   "metadata": {},
   "source": [
    "We need to do the above steps on every individual in population to generate an entirely new one."
   ]
  },
  {
   "cell_type": "code",
   "execution_count": 17,
   "metadata": {},
   "outputs": [],
   "source": [
    "population = [mutate(recombine(*select(2, population, fitness_fn)), gene_pool, mutation_rate) for i in range(len(population))]"
   ]
  },
  {
   "cell_type": "markdown",
   "metadata": {},
   "source": [
    "Then grab the best fitting sequence and print it to see it, as well as the fitness function for the best solution"
   ]
  },
  {
   "cell_type": "code",
   "execution_count": 18,
   "metadata": {},
   "outputs": [
    {
     "name": "stdout",
     "output_type": "stream",
     "text": [
      "[2, 2, 0, 3, 0, 0, 3, 2, 2, 1, 2, 0, 0, 0, 0, 1, 3, 3, 1, 2, 0, 1, 0, 0, 3, 1, 2, 1, 0, 2, 3]\n",
      "0.98\n",
      "['down', 'down', 'up', 'left', 'up', 'up', 'left', 'down', 'down', 'right', 'down', 'up', 'up', 'up', 'up', 'right', 'left', 'left', 'right', 'down', 'up', 'right', 'up', 'up', 'left', 'right', 'down', 'right', 'up', 'down', 'left']\n"
     ]
    }
   ],
   "source": [
    "current_best = max(population, key=fitness_fn)\n",
    "print(current_best)\n",
    "print(fitness_fn(current_best))\n",
    "sol_to_string(current_best)"
   ]
  },
  {
   "cell_type": "markdown",
   "metadata": {},
   "source": [
    "I set the fitness threshold to 9. as well as the max generations to 500. "
   ]
  },
  {
   "cell_type": "code",
   "execution_count": 19,
   "metadata": {},
   "outputs": [],
   "source": [
    "fit_thresh = 1.0\n",
    "mgen = 500"
   ]
  },
  {
   "cell_type": "markdown",
   "metadata": {
    "collapsed": true
   },
   "source": [
    "We then run the genetic algorith function which does the previous steps till the fitness threshold is hit or we reach 500 generations. With the current fitness model there could be a problem where a sequence solves the problem but then messes up the puzzle again but this should, for the most part, find a solution"
   ]
  },
  {
   "cell_type": "code",
   "execution_count": 20,
   "metadata": {},
   "outputs": [],
   "source": [
    "def genetic_algorithm_stepwise(population, fitness_fn, gene_pool=[0, 1], f_thres=None, ngen=1200, pmut=0.1):\n",
    "    for generation in range(ngen):\n",
    "        population = [mutate(recombine(*select(2, population, fitness_fn)), gene_pool, pmut) for i in range(len(population))]\n",
    "        # stores the individual genome with the highest fitness in the current population\n",
    "        current_best = (max(population, key=fitness_fn))\n",
    "        print(f'Current best: {current_best}\\t\\tGeneration: {str(generation)}\\t\\tFitness: {fitness_fn(current_best)}\\r', end='')\n",
    "        \n",
    "        # compare the fitness of the current best individual to f_thres\n",
    "        fittest_individual = fitness_threshold(fitness_fn, f_thres, population)\n",
    "        \n",
    "        # if fitness is greater than or equal to f_thres, we terminate the algorithm\n",
    "        if fittest_individual:\n",
    "            return fittest_individual, generation\n",
    "    return max(population, key=fitness_fn) , generation"
   ]
  },
  {
   "cell_type": "code",
   "execution_count": 21,
   "metadata": {},
   "outputs": [
    {
     "name": "stdout",
     "output_type": "stream",
     "text": [
      "Current best: [0, 3, 1, 3, 2, 1, 3, 3, 0, 2, 1, 0, 3, 2, 2, 0, 1, 0, 1, 3, 1, 2, 0, 0, 0, 2, 2, 3, 1, 1, 2]\t\tGeneration: 4\t\tFitness: 1.07\r"
     ]
    }
   ],
   "source": [
    "best_fit, generation = genetic_algorithm_stepwise(population, fitness_fn, gene_pool, fit_thresh, mgen, mutation_rate)"
   ]
  },
  {
   "cell_type": "code",
   "execution_count": 22,
   "metadata": {},
   "outputs": [],
   "source": [
    "def goal_test(board):\n",
    "    \"\"\"\n",
    "    Tests the board to see if it matches the goal state\n",
    "    :param board: the board which we want to tesy\n",
    "    :return: true if the board is the same as the goal and fallse if not\n",
    "    \"\"\"\n",
    "    goal = np.array([[1, 2, 3], [4, 5, 6], [7, 8, 0]])\n",
    "    return np.array_equal(board, goal)"
   ]
  },
  {
   "cell_type": "markdown",
   "metadata": {},
   "source": [
    "Then we pass the sequence through several functions to shorten to the shortest solution for that sequence."
   ]
  },
  {
   "cell_type": "code",
   "execution_count": 23,
   "metadata": {},
   "outputs": [
    {
     "name": "stdout",
     "output_type": "stream",
     "text": [
      "[0, 3, 1, 3, 2, 1, 3, 3, 0, 2, 1, 0, 3, 2, 2, 0, 1, 0, 1, 3, 1, 2, 0, 0, 0, 2, 2]\n"
     ]
    }
   ],
   "source": [
    "def shorten_solution(solution):\n",
    "    short = []\n",
    "    t_board = np.copy(board) \n",
    "    for each in solution:\n",
    "        short.append(each)\n",
    "        apply_action(t_board, each)\n",
    "        if goal_test(t_board):\n",
    "            return short\n",
    "        \n",
    "    return short\n",
    "\n",
    "\n",
    "short_fit = shorten_solution(best_fit)\n",
    "print(short_fit)"
   ]
  },
  {
   "cell_type": "markdown",
   "metadata": {},
   "source": [
    "I then removed all the moves which did not change the board."
   ]
  },
  {
   "cell_type": "code",
   "execution_count": 24,
   "metadata": {},
   "outputs": [
    {
     "name": "stdout",
     "output_type": "stream",
     "text": [
      "[0, 3, 1, 3, 2, 1, 3, 0, 2, 1, 0, 3, 2, 0, 1, 0, 1, 3, 1, 2, 0, 2, 2]\n"
     ]
    }
   ],
   "source": [
    "def remove_non(solution):\n",
    "    short = []\n",
    "    t_board = np.copy(board)\n",
    "    c_board = np.copy(board)\n",
    "    for m in solution:\n",
    "        apply_action(t_board, m)\n",
    "        if not np.array_equal(t_board ,c_board):\n",
    "            short.append(m)\n",
    "            c_board = np.copy(t_board)\n",
    "\n",
    "    return short\n",
    "\n",
    "non_short = remove_non(short_fit)\n",
    "print(non_short)"
   ]
  },
  {
   "cell_type": "markdown",
   "metadata": {},
   "source": [
    "Next I checked the shortened solution for any redundent moves such as 'left' followed by 'right'"
   ]
  },
  {
   "cell_type": "code",
   "execution_count": 157,
   "metadata": {},
   "outputs": [
    {
     "name": "stdout",
     "output_type": "stream",
     "text": [
      "[2, 1, 0, 3, 2]\n"
     ]
    }
   ],
   "source": [
    "def remove_redund(solution):\n",
    "    short =[]\n",
    "    key_move = 'none'\n",
    "    move_map = {0: 2, 1:3, 2:0, 3:1, 'none':'none'}\n",
    "    for m in solution:\n",
    "        if m != move_map[key_move]:\n",
    "            short.append(m)\n",
    "        else:\n",
    "            short.pop()\n",
    "        key_move = m\n",
    "    return short\n",
    "    \n",
    "r_short = remove_redund(non_short)\n",
    "print(r_short)"
   ]
  },
  {
   "cell_type": "markdown",
   "metadata": {},
   "source": [
    "Then im going to make the moves in English so it is easier to follow."
   ]
  },
  {
   "cell_type": "code",
   "execution_count": 158,
   "metadata": {},
   "outputs": [
    {
     "name": "stdout",
     "output_type": "stream",
     "text": [
      "['down', 'right', 'up', 'left', 'down']\n"
     ]
    }
   ],
   "source": [
    "sol_to_string(r_short)"
   ]
  },
  {
   "cell_type": "markdown",
   "metadata": {},
   "source": [
    "I then do a check to make sure the solution actually works."
   ]
  },
  {
   "cell_type": "code",
   "execution_count": 27,
   "metadata": {},
   "outputs": [
    {
     "name": "stdout",
     "output_type": "stream",
     "text": [
      "True\n",
      "[[1 2 3]\n",
      " [4 5 6]\n",
      " [7 8 0]]\n"
     ]
    }
   ],
   "source": [
    "new_board = np.copy(board)\n",
    "for x in short_fit:\n",
    "    apply_action(new_board, x)\n",
    "    \n",
    "\n",
    "print(goal_test(new_board))\n",
    "print(new_board)"
   ]
  },
  {
   "cell_type": "markdown",
   "metadata": {},
   "source": [
    "# Simulated Annealing\n",
    "I'm going to program the 8 puzzle through simulated annealing. The first step is to define the temperature function. I'm going to use the exp_schedule function from search.py."
   ]
  },
  {
   "cell_type": "code",
   "execution_count": 97,
   "metadata": {},
   "outputs": [],
   "source": [
    "def n_out_of_order(board):\n",
    "    goal = np.array([[1, 2, 3], [4, 5, 6], [7, 8, 0]])\n",
    "    return np.count_nonzero(np.subtract(board,goal))\n",
    "\n",
    "def bad_times_m(board):\n",
    "    \"\"\"Multiplies the number of out of order tiles by the manhattan distance\"\"\"\n",
    "    return manhattan(board)*n_out_of_order(board)"
   ]
  },
  {
   "cell_type": "markdown",
   "metadata": {},
   "source": [
    "The next function is needed to make a list of neighbors to randomly take a move from."
   ]
  },
  {
   "cell_type": "code",
   "execution_count": 29,
   "metadata": {},
   "outputs": [],
   "source": [
    "def possiblemoves(board):\n",
    "    \"\"\"Returns a list of the possible moves\"\"\"\n",
    "    moves = []\n",
    "    new_board = np.copy(board)\n",
    "    c_board = np.copy(board)  # a board to compare to\n",
    "    for x in range(4):\n",
    "        new_board = apply_action(new_board, x)\n",
    "        if not np.array_equal(new_board, c_board):\n",
    "            moves.append(x)\n",
    "        new_board = np.copy(c_board)\n",
    "    return moves"
   ]
  },
  {
   "cell_type": "markdown",
   "metadata": {},
   "source": [
    "The annealing algorithm uses a cooling function defined as an argument to create a solution. The energy is defined by the Manhattan distance multiplied by the number of tiles out of place. The function returns the board and a tuple of the sequence of moves, which can be reduced later by the functions from earlier. The annealing process selects a move with a lower heuristic. If the move does not have a lower heurstic it can be selected by a probability defined by $a = e^{\\frac{c_{new} - c_{old}}{T}}$. This works with the 8 puzzle because sometimes a heuristic will not be able to be reduced with the correct move due to a local minimum. "
   ]
  },
  {
   "cell_type": "code",
   "execution_count": 160,
   "metadata": {},
   "outputs": [],
   "source": [
    "import sys\n",
    "import math\n",
    "import utils\n",
    "\n",
    "def eight_anneal(puzzle, schedule=exp_schedule()):\n",
    "    sequence = []\n",
    "    c_board = np.copy(board)\n",
    "    for t in range(sys.maxsize):\n",
    "        T = schedule(t)\n",
    "        if T == 0:\n",
    "            return  c_board, tuple(sequence) \n",
    "        neighbors = possiblemoves(c_board)\n",
    "        if not neighbors:\n",
    "            return c_board, tuple(sequence)\n",
    "        next_choice = random.choice(neighbors)\n",
    "        next_board = apply_action(c_board, next_choice)\n",
    "        sequence.append(next_choice)\n",
    "        if bad_times_m(next_board)== 0:\n",
    "            return c_board, tuple(sequence)\n",
    "        elif bad_times_m(next_board) < bad_times_m(c_board):\n",
    "            c_board = np.copy(next_board)\n",
    "        elif utils.probability(math.exp((bad_times_m(next_board) - bad_times_m(c_board))/T)):\n",
    "            c_board = np.copy(next_board)\n",
    "        "
   ]
  },
  {
   "cell_type": "markdown",
   "metadata": {},
   "source": [
    "This next code messes up the board and does one annealing session"
   ]
  },
  {
   "cell_type": "code",
   "execution_count": 161,
   "metadata": {
    "scrolled": true
   },
   "outputs": [
    {
     "name": "stdout",
     "output_type": "stream",
     "text": [
      "[[5 3 2]\n",
      " [8 0 1]\n",
      " [4 7 6]] \n",
      " (0, 3, 0, 3, 2, 2, 1, 1, 3, 1, 3, 1, 0, 3, 2, 1, 3, 3, 0, 0, 2, 2, 0, 1, 2, 1, 3, 0, 0, 2, 2, 3, 0, 1, 0, 2, 1, 0, 3, 1, 3, 1, 2, 2, 3, 1, 0, 2, 0, 3, 3, 2, 1, 3, 1, 1, 0, 2, 3, 0, 2, 0, 2, 1, 3, 0, 0, 2, 0, 1, 2, 3, 3, 0, 1, 2, 1, 3, 3, 0, 2, 1, 2, 1, 0, 2, 3, 3, 1, 1, 3, 3, 0, 1, 0, 3, 1, 3, 2, 1) \n",
      " 12\n"
     ]
    }
   ],
   "source": [
    "board = np.array([[1, 2, 3], [4, 5, 6], [7, 8, 0]])\n",
    "mess_up(board,10)\n",
    "test, seq = eight_anneal(board)\n",
    "print(test, '\\n', seq, '\\n' ,manhattan(test))"
   ]
  },
  {
   "cell_type": "markdown",
   "metadata": {},
   "source": [
    "The following runs the annealing process 7500 times and writes the solutions to a dictionary. For this I do not mind writing over the dictionary entries since I'm only looking for the best/solution sequence of moves."
   ]
  },
  {
   "cell_type": "code",
   "execution_count": 162,
   "metadata": {},
   "outputs": [],
   "source": [
    "solutions = {}\n",
    "for i in range(7500):\n",
    "    f_board, moves = (eight_anneal(board))\n",
    "    solutions[bad_times_m(f_board)] = moves"
   ]
  },
  {
   "cell_type": "markdown",
   "metadata": {},
   "source": [
    "Next we will print the final board, the sequence, and the final heuristic "
   ]
  },
  {
   "cell_type": "code",
   "execution_count": 163,
   "metadata": {},
   "outputs": [
    {
     "name": "stdout",
     "output_type": "stream",
     "text": [
      "0\n",
      "(3, 1, 0, 3, 3, 2, 0, 0, 1, 3, 2, 1, 1, 3, 1, 0, 3, 3, 2, 1, 2, 3, 0, 2, 1, 0, 3, 2, 1, 3, 0, 2, 1, 3, 1, 3, 0, 0, 1, 1, 2, 3, 0, 2, 0, 3, 1, 2, 1, 0, 2, 0, 3, 3, 2, 0, 1, 3, 2, 1, 0, 2, 3, 0, 1, 2, 0, 1, 2, 3, 2, 1)\n",
      "['left', 'right', 'up', 'left', 'left', 'down', 'up', 'up', 'right', 'left', 'down', 'right', 'right', 'left', 'right', 'up', 'left', 'left', 'down', 'right', 'down', 'left', 'up', 'down', 'right', 'up', 'left', 'down', 'right', 'left', 'up', 'down', 'right', 'left', 'right', 'left', 'up', 'up', 'right', 'right', 'down', 'left', 'up', 'down', 'up', 'left', 'right', 'down', 'right', 'up', 'down', 'up', 'left', 'left', 'down', 'up', 'right', 'left', 'down', 'right', 'up', 'down', 'left', 'up', 'right', 'down', 'up', 'right', 'down', 'left', 'down', 'right']\n",
      "[[1 2 3]\n",
      " [4 6 8]\n",
      " [7 5 0]]\n"
     ]
    }
   ],
   "source": [
    "print(min(solutions))\n",
    "print(solutions[min(solutions)])\n",
    "sol_to_string(solutions[min(solutions)])\n",
    "best_board = np.copy(board)\n",
    "for x in solutions[min(solutions)]:\n",
    "    apply_action(best_board, x)\n",
    "print(board)"
   ]
  },
  {
   "cell_type": "markdown",
   "metadata": {},
   "source": [
    "# Conclusion\n",
    "For this project I looked at 2 non-traditional problem solving methods; genetic algorithms and simulated annealing. Compared to the random search and the random search with heuristics, I think that each of these methods has its merriots. The genetic algorithm makes a lot of sense for a problem such as the eight puzzle. This is because you select paths which at the end have the best heuristic and then mate them to try and form a better solution. The annealing process is similar to the random with heuristic search but is better since it can move backwards to find a solution."
   ]
  },
  {
   "cell_type": "code",
   "execution_count": null,
   "metadata": {},
   "outputs": [],
   "source": []
  }
 ],
 "metadata": {
  "kernelspec": {
   "display_name": "Python 3",
   "language": "python",
   "name": "python3"
  },
  "language_info": {
   "codemirror_mode": {
    "name": "ipython",
    "version": 3
   },
   "file_extension": ".py",
   "mimetype": "text/x-python",
   "name": "python",
   "nbconvert_exporter": "python",
   "pygments_lexer": "ipython3",
   "version": "3.6.4"
  }
 },
 "nbformat": 4,
 "nbformat_minor": 2
}
