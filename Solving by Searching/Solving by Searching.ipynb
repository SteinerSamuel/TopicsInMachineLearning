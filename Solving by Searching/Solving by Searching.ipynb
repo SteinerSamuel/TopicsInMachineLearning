{
 "cells": [
  {
   "cell_type": "markdown",
   "metadata": {},
   "source": [
    "# Solving By Searching\n",
    "## The Problems\n",
    "Code up the Prisoners and Guards problem in the book, using the python code provided at the AIMA github site.  \n",
    "In addition, code up the 8-puzzle, in this case it makes sense to use heuristics to speed up the search.\n",
    "\n",
    "## What I Know\n",
    "I am familiar with both puzzles and how to represent theme but I need to learn how to program a solution using a breadth first approach.\n",
    "\n",
    "### The Prisoner Guard/ Canibals and Missionaries Problem\n",
    "In the missionaries and cannibals problem, three missionaries and three cannibals must cross a river using a boat which can carry at most two people, under the constraint that, for both banks, if there are missionaries present on the bank, they cannot be outnumbered by cannibals (if they were, the cannibals would eat the missionaries) [wiki](https://en.wikipedia.org/wiki/Missionaries_and_cannibals_problem)"
   ]
  },
  {
   "cell_type": "code",
   "execution_count": 2,
   "metadata": {},
   "outputs": [],
   "source": [
    "# Imports needed to run the code in this notebook\n",
    "import numpy as np\n",
    "import collections\n",
    "import random"
   ]
  },
  {
   "cell_type": "code",
   "execution_count": null,
   "metadata": {},
   "outputs": [],
   "source": [
    "def actions( state):\n",
    "    # possible\n",
    "    possible = np.array([[0, 1, 1], [1, 0, 1], [1, 1, 1], [0, 2, 1], [2, 0, 1]])\n",
    "    sending = 1 - 2 * state[2] # either -1 or 1\n",
    "    for p in possible:\n",
    "        # multiplies the possible action by the status of the boat and adds that to the sate\n",
    "        ns_ws = np.add(np.multiply(sending, p), state)\n",
    "        # subtracts the ns from the original state showing the other side of the shore\n",
    "        ns_rs = np.subtract(np.array([3, 3, 1]), ns_ws)\n",
    "        # makes sure we dont get negative prisoners\n",
    "        if ns_ws[0] <0:\n",
    "            continue\n",
    "        if ns_rs[0] <0:\n",
    "            continue\n",
    "        # makes sure we dont get more than the initial 3\n",
    "        if ns_ws[1]>3:\n",
    "            continue\n",
    "        if ns_rs[1] >3:\n",
    "            continue\n",
    "        # checks to make sure the prisoners out number the guards\n",
    "        if ns_ws[1] > ns_ws[0] and ns_ws[0] > 0:\n",
    "            continue\n",
    "        if ns_rs[1] > ns_rs[0] and ns_rs[0] > 0:\n",
    "            continue\n",
    "        yield ns_ws\n",
    "    pass\n",
    "\n",
    "\n",
    "def is_in(item,things):\n",
    "    return any((item == athing).all() for athing in things)\n",
    "\n",
    "def breadth_first_search():\n",
    "    node = np.array([3,3,1]) # starting point\n",
    "    goal = np.array([0,0,0]) # goal\n",
    "    frontier = collections.deque([node])\n",
    "    explored = []\n",
    "    print(frontier)\n",
    "    if (node == goal).all():\n",
    "        return True\n",
    "    while True:\n",
    "        try:\n",
    "            node = frontier.pop()\n",
    "        except IndexError: \n",
    "            return False\n",
    "\n",
    "        explored.append(node)\n",
    "        # Formatted output\n",
    "        for x in explored:\n",
    "            print(x)\n",
    "        print(\"~~~~~~~~~~\")\n",
    "        \n",
    "\n",
    "        for newstate in  actions(node):\n",
    "            if not(is_in(newstate,explored) or is_in(newstate,frontier)):\n",
    "\n",
    "                if (newstate == goal).all():\n",
    "                    return True\n",
    "                frontier.append(newstate)\n",
    "\n",
    "\n",
    "\n",
    "print(breadth_first_search())"
   ]
  },
  {
   "cell_type": "markdown",
   "metadata": {
    "collapsed": true
   },
   "source": [
    "### The Eight Puzzle\n",
    "The eight puzzle is a sliding puzzle which is a simplied version of the 15 puzzle [wiki](https://en.wikipedia.org/wiki/15_puzzle) In which we will create a solvable puzzle by applying 'random' moves to the board from a solvd state the program will than preform a search with heuristics to solve the puzzle. The first is to make a function which applies an action to the baord."
   ]
  },
  {
   "cell_type": "code",
   "execution_count": 3,
   "metadata": {
    "scrolled": false
   },
   "outputs": [],
   "source": [
    "def apply_action(board, action):\n",
    "    \"\"\"\n",
    "    Applies an action to a board\n",
    "    :param board:  the board which the action is being applied to\n",
    "    :param action: a integer from 0-3 which corresponds to actions: 0: up, 1:right, 2:down, 3:left\n",
    "    :return: the board with the new acction applied to it\n",
    "    \"\"\"\n",
    "    deltas = np.array([[-1, 0, 1, 0], [0, 1, 0, -1]])  # changes based on what direction the tile is moved\n",
    "    posx, posy = np.where(np.isin(board, [0]))  # grabs the position of the blank tile\n",
    "    (x, y) = (posx[0], posy[0])\n",
    "    (new_x, new_y) = (x + deltas[0, action], y + deltas[1, action])\n",
    "    if new_x < 0 or new_y < 0:  # necessary because negative numbers wrap arround\n",
    "        new_x = 3\n",
    "    try:\n",
    "        el = board[new_x, new_y]\n",
    "        board[x, y] = el\n",
    "        board[new_x, new_y] = 0\n",
    "    except IndexError:\n",
    "        # print('index error')\n",
    "        pass\n",
    "    return board"
   ]
  },
  {
   "cell_type": "markdown",
   "metadata": {},
   "source": [
    "The next bit is to add a function which messes up the board and checks to see if it matches the goal"
   ]
  },
  {
   "cell_type": "code",
   "execution_count": 4,
   "metadata": {},
   "outputs": [],
   "source": [
    "def mess_up(board, moves):\n",
    "    \"\"\"\n",
    "    Messes up the the board using number of moves\n",
    "    :param board: The board which needs to be messed up\n",
    "    :param moves:  Number of moves to mess up the board with\n",
    "    :return:\n",
    "    \"\"\"\n",
    "    for i in range(0, moves):\n",
    "        board = apply_action(board, random.randint(0, 3))  # generates a random move based on the comment at the top\n",
    "    pass\n",
    "\n",
    "\n",
    "def goal_test(board):\n",
    "    \"\"\"\n",
    "    Tests the board to see if it matches the goal state\n",
    "    :param board: the board which we want to tesy\n",
    "    :return: true if the board is the same as the goal and fallse if not\n",
    "    \"\"\"\n",
    "    goal = np.array([[1, 2, 3], [4, 5, 6], [7, 8, 0]])\n",
    "    return np.array_equal(board, goal)"
   ]
  },
  {
   "cell_type": "markdown",
   "metadata": {},
   "source": [
    "next we need to make a function which finds the solution through random search. "
   ]
  },
  {
   "cell_type": "code",
   "execution_count": 5,
   "metadata": {},
   "outputs": [],
   "source": [
    "def random_search(board):\n",
    "    \"\"\"\n",
    "    create a sequence of 32 random  moves and keep going until it is solved. this may take a long time to return\n",
    "    :param board:\n",
    "    :return:\n",
    "    \"\"\"\n",
    "    actions = [\"up\", \"right\", \"down\", \"left\"]  # The  moves mapped to an array to write the moves to an array for\n",
    "    # printing\n",
    "    while True:\n",
    "        sequence = []\n",
    "        new_board = np.copy(board)\n",
    "        c_board = np.copy(board)  # a board to compare to\n",
    "        for iteration in range(32):\n",
    "            r = random.randint(0, 3)\n",
    "            action = actions[r]\n",
    "            new_board = apply_action(new_board, r)\n",
    "            if not np.array_equal(new_board, c_board):  # checks to see if the move does anything to the board\n",
    "                # if there is a change it adds the move to the sequence\n",
    "                sequence.append(action)\n",
    "                c_board = np.copy(new_board)  # copies the new board to the compare board\n",
    "            if goal_test(new_board):\n",
    "                print(new_board)\n",
    "                return sequence\n",
    "    pass"
   ]
  },
  {
   "cell_type": "markdown",
   "metadata": {},
   "source": [
    "Next lets test our random search by creating a board which we mess up with 50 random moves and then solve with a random search"
   ]
  },
  {
   "cell_type": "code",
   "execution_count": 9,
   "metadata": {},
   "outputs": [
    {
     "name": "stdout",
     "output_type": "stream",
     "text": [
      "True\n",
      "Starting Board\n",
      "[[2 0 8]\n",
      " [1 6 3]\n",
      " [7 4 5]]\n",
      "Goal Test: False\n",
      "[[1 2 3]\n",
      " [4 5 6]\n",
      " [7 8 0]]\n",
      "['right', 'down', 'left', 'up', 'right', 'down', 'left', 'down', 'right', 'up', 'down', 'up', 'up', 'left', 'left', 'down', 'right', 'down', 'up', 'down', 'left', 'right', 'right']\n"
     ]
    }
   ],
   "source": [
    "board = np.array([[1, 2, 3], [4, 5, 6], [7, 8, 0]])\n",
    "print(goal_test(board))\n",
    "mess_up(board, 50)\n",
    "print('Starting Board')\n",
    "print(board)\n",
    "print('Goal Test: %s' % goal_test(board))\n",
    "print(random_search(board))"
   ]
  },
  {
   "cell_type": "code",
   "execution_count": 10,
   "metadata": {},
   "outputs": [],
   "source": [
    "def n_out_of_order(board):\n",
    "    goal = np.array([[1, 2, 3], [4, 5, 6], [7, 8, 0]])\n",
    "    return np.count_nonzero(np.subtract(board,goal))\n",
    "\n",
    "\n",
    "def manhattan(board):\n",
    "    \"\"\"\n",
    "    grabs the total manhattan distance of the board\n",
    "    \"\"\"\n",
    "    goal = np.array([[1, 2, 3], [4, 5, 6], [7, 8, 0]])\n",
    "    td = 0\n",
    "    for item in [1, 2, 3, 4, 5, 6, 7, 8]:\n",
    "        gx, gy = np.where(np.isin(goal, item))\n",
    "        cx, cy = np.where(np.isin(board, item))\n",
    "        td += abs(gx-cx)+abs(gy-cy)\n",
    "    return td[0]\n",
    "\n",
    "\n",
    "def max_heuristic(board):\n",
    "    score1 = manhattan(board)\n",
    "    score2 = n_out_of_order(board)\n",
    "    return max(score1, score2)"
   ]
  },
  {
   "cell_type": "markdown",
   "metadata": {
    "collapsed": true
   },
   "source": [
    "### Conclusion\n",
    "When I was coding and trying to figure out the search for the 8 puzzle I had run into several problems. The first and largest problem was that the puzzle was wrapping around itself. An example of this was with the following board state:\n",
    "\n",
    "\n",
    "821\n",
    "\n",
    "570\n",
    "\n",
    "436 \n",
    "\n",
    "\n",
    "if we moved the open space from the current position to the right it would go around to the other side making the new board state:\n",
    "\n",
    "\n",
    "821\n",
    "\n",
    "057\n",
    "\n",
    "436\n",
    "\n",
    "\n",
    "this was a simple solution which was added and commented above.\n"
   ]
  },
  {
   "cell_type": "code",
   "execution_count": null,
   "metadata": {},
   "outputs": [],
   "source": []
  }
 ],
 "metadata": {
  "kernelspec": {
   "display_name": "Python 3",
   "language": "python",
   "name": "python3"
  },
  "language_info": {
   "codemirror_mode": {
    "name": "ipython",
    "version": 3
   },
   "file_extension": ".py",
   "mimetype": "text/x-python",
   "name": "python",
   "nbconvert_exporter": "python",
   "pygments_lexer": "ipython3",
   "version": "3.6.4"
  }
 },
 "nbformat": 4,
 "nbformat_minor": 2
}
